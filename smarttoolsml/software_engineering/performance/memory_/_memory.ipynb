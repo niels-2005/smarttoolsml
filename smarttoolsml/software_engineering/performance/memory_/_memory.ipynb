{
 "cells": [
  {
   "cell_type": "code",
   "execution_count": 3,
   "metadata": {},
   "outputs": [],
   "source": [
    "from collections import Counter\n",
    "import numpy as np\n",
    "import memray\n",
    "\n",
    "\n",
    "def mode_using_counter(n_integers):\n",
    "    random_integers = np.random.randint(1, 100000, n_integers)\n",
    "    c = Counter(random_integers)\n",
    "    return c.most_common(1)[0][0]"
   ]
  },
  {
   "cell_type": "code",
   "execution_count": 4,
   "metadata": {},
   "outputs": [
    {
     "name": "stderr",
     "output_type": "stream",
     "text": [
      "Memray WARNING: Correcting symbol for aligned_alloc from 0x7fdf48457c50 to 0x7fdf56ea5c60\n"
     ]
    }
   ],
   "source": [
    "# Memray startet die Profilierung und schreibt die Ergebnisse in eine Datei\n",
    "with memray.Tracker(\"memray_output.bin\"):\n",
    "    mode_using_counter(10000000)"
   ]
  },
  {
   "cell_type": "code",
   "execution_count": null,
   "metadata": {},
   "outputs": [
    {
     "name": "stdout",
     "output_type": "stream",
     "text": [
      "\u001b[2K  \u001b[36mCalculating high watermark...\u001b[0m \u001b[38;2;114;156;31m━━━━━━━━━━━━━━━━━━━━━━━━━━━━━━━━━━━\u001b[0m \u001b[35m100%\u001b[0m \u001b[36m0:00:00\u001b[0m0m\n",
      "\u001b[2K  \u001b[36mProcessing allocation records...\u001b[0m \u001b[38;2;114;156;31m━━━━━━━━━━━━━━━━━━━━━━━━━━━━━━━━\u001b[0m \u001b[35m100%\u001b[0m \u001b[36m0:00:00\u001b[0m0m\n",
      "\u001b[1A\u001b[2KWrote memray-flamegraph-memray_output.html\n"
     ]
    }
   ],
   "source": [
    "!memray flamegraph memray_output.bin"
   ]
  }
 ],
 "metadata": {
  "kernelspec": {
   "display_name": "ml",
   "language": "python",
   "name": "python3"
  },
  "language_info": {
   "codemirror_mode": {
    "name": "ipython",
    "version": 3
   },
   "file_extension": ".py",
   "mimetype": "text/x-python",
   "name": "python",
   "nbconvert_exporter": "python",
   "pygments_lexer": "ipython3",
   "version": "3.10.14"
  }
 },
 "nbformat": 4,
 "nbformat_minor": 2
}
