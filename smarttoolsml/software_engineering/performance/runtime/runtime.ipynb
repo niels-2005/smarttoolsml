{
 "cells": [
  {
   "cell_type": "code",
   "execution_count": 2,
   "metadata": {},
   "outputs": [],
   "source": [
    "import numpy as np\n",
    "\n",
    "random_integers = np.random.randint(1, 1_000_000, 1_000_000)\n",
    "\n",
    "\n",
    "def slow_way_to_calculate_mode(list_of_numbers):\n",
    "    result_dict = {}\n",
    "    for i in list_of_numbers:\n",
    "        if i not in result_dict:\n",
    "            result_dict[i] = 1\n",
    "        else:\n",
    "            result_dict[i] += 1\n",
    "\n",
    "    mode_vals = []\n",
    "    max_frequency = max(result_dict.values())\n",
    "    for key, value in result_dict.items():\n",
    "        if value == max_frequency:\n",
    "            mode_vals.append(key)\n",
    "\n",
    "    return mode_vals"
   ]
  },
  {
   "cell_type": "code",
   "execution_count": 6,
   "metadata": {},
   "outputs": [
    {
     "name": "stdout",
     "output_type": "stream",
     "text": [
      "190 ms ± 4.54 ms per loop (mean ± std. dev. of 15 runs, 10 loops each)\n"
     ]
    }
   ],
   "source": [
    "# -r 15 = number of runs\n",
    "# -n 10 = number of loops\n",
    "%%timeit -r 15 -n 10\n",
    "slow_way_to_calculate_mode(random_integers)"
   ]
  },
  {
   "cell_type": "markdown",
   "metadata": {},
   "source": [
    "Timing your code using %%timeit is great for single lines of code, but if you have a longer function or a whole script,\n",
    "it's tedious to break out ech line into its own notebook cell and time it separately. This is where a profiler comes in.\n",
    "Profilers can tell you which part of a function takes the most time and give you extra levels of detail,\n",
    "making it easier to find the bottlenecks in your code. I'll also include details of how to profile the memory usage\n",
    "of your code in this section."
   ]
  },
  {
   "cell_type": "code",
   "execution_count": 8,
   "metadata": {},
   "outputs": [],
   "source": [
    "from collections import Counter\n",
    "import numpy as np\n",
    "\n",
    "\n",
    "def mode_using_counter(n_integers):\n",
    "    random_integers = np.random.randint(1, 100000, n_integers)\n",
    "    c = Counter(random_integers)\n",
    "    return c.most_common(1)[0][0]"
   ]
  },
  {
   "cell_type": "code",
   "execution_count": null,
   "metadata": {},
   "outputs": [
    {
     "name": "stdout",
     "output_type": "stream",
     "text": [
      " "
     ]
    },
    {
     "name": "stdout",
     "output_type": "stream",
     "text": [
      "         71 function calls (41 primitive calls) in 1.010 seconds\n",
      "\n",
      "   Ordered by: internal time\n",
      "\n",
      "   ncalls  tottime  percall  cumtime  percall filename:lineno(function)\n",
      "        1    0.946    0.946    0.946    0.946 {built-in method _collections._count_elements}\n",
      "        1    0.061    0.061    0.061    0.061 {method 'randint' of 'numpy.random.mtrand.RandomState' objects}\n",
      "        1    0.002    0.002    0.002    0.002 {built-in method builtins.max}\n",
      "        1    0.001    0.001    1.010    1.010 <string>:1(<module>)\n",
      "     16/1    0.000    0.000    0.000    0.000 {built-in method _abc._abc_subclasscheck}\n",
      "        1    0.000    0.000    0.000    0.000 {method 'reduce' of 'numpy.ufunc' objects}\n",
      "        1    0.000    0.000    1.010    1.010 {built-in method builtins.exec}\n",
      "        1    0.000    0.000    1.009    1.009 3908920735.py:5(mode_using_counter)\n",
      "        1    0.000    0.000    0.000    0.000 fromnumeric.py:71(_wrapreduction)\n",
      "        1    0.000    0.000    0.000    0.000 fromnumeric.py:2979(prod)\n",
      "        1    0.000    0.000    0.002    0.002 __init__.py:588(most_common)\n",
      "        1    0.000    0.000    0.946    0.946 __init__.py:640(update)\n",
      "        1    0.000    0.000    0.946    0.946 __init__.py:565(__init__)\n",
      "        1    0.000    0.000    0.002    0.002 heapq.py:521(nlargest)\n",
      "        1    0.000    0.000    0.000    0.000 {built-in method _abc._abc_instancecheck}\n",
      "     16/1    0.000    0.000    0.000    0.000 abc.py:121(__subclasscheck__)\n",
      "        1    0.000    0.000    0.000    0.000 {built-in method builtins.getattr}\n",
      "       16    0.000    0.000    0.000    0.000 _collections_abc.py:409(__subclasshook__)\n",
      "        1    0.000    0.000    0.000    0.000 abc.py:117(__instancecheck__)\n",
      "        1    0.000    0.000    0.000    0.000 fromnumeric.py:72(<dictcomp>)\n",
      "        1    0.000    0.000    0.000    0.000 {built-in method builtins.isinstance}\n",
      "        2    0.000    0.000    0.000    0.000 {method 'items' of 'dict' objects}\n",
      "        1    0.000    0.000    0.000    0.000 fromnumeric.py:2974(_prod_dispatcher)\n",
      "        1    0.000    0.000    0.000    0.000 {built-in method builtins.iter}\n",
      "        1    0.000    0.000    0.000    0.000 {method 'disable' of '_lsprof.Profiler' objects}"
     ]
    }
   ],
   "source": [
    "# using profiling\n",
    "\n",
    "%%prun\n",
    "mode_using_counter(10000000)"
   ]
  },
  {
   "cell_type": "code",
   "execution_count": null,
   "metadata": {},
   "outputs": [],
   "source": [
    "# When you want to see the graphical display of the result\n",
    "\n",
    "%load_ext snakeviz"
   ]
  },
  {
   "cell_type": "code",
   "execution_count": null,
   "metadata": {},
   "outputs": [
    {
     "name": "stdout",
     "output_type": "stream",
     "text": [
      " \n",
      "*** Profile stats marshalled to file '/tmp/tmp1wes2v4n'.\n",
      "Embedding SnakeViz in this document...\n",
      "<function display at 0x78d5cd251c60>\n"
     ]
    },
    {
     "data": {
      "text/html": [
       "\n",
       "<iframe id='snakeviz-eaed2a76-eebf-11ef-96c3-047c1672cbae' frameborder=0 seamless width='100%' height='1000'></iframe>\n",
       "<script>document.getElementById(\"snakeviz-eaed2a76-eebf-11ef-96c3-047c1672cbae\").setAttribute(\"src\", \"http://\" + document.location.hostname + \":8080/snakeviz/%2Ftmp%2Ftmp1wes2v4n\")</script>\n"
      ],
      "text/plain": [
       "<IPython.core.display.HTML object>"
      ]
     },
     "metadata": {},
     "output_type": "display_data"
    }
   ],
   "source": [
    "%snakeviz mode_using_counter(10000000)"
   ]
  },
  {
   "cell_type": "code",
   "execution_count": null,
   "metadata": {},
   "outputs": [
    {
     "name": "stdout",
     "output_type": "stream",
     "text": [
      "snakeviz web server started on 127.0.0.1:8080; enter Ctrl-C to exit\n",
      "http://127.0.0.1:8080/snakeviz/%2Ftmp%2Ftmpkeezvz3o\n",
      "\n",
      "Bye!\n",
      "^C\n"
     ]
    }
   ],
   "source": [
    "!snakeviz /tmp/tmpkeezvz3o"
   ]
  },
  {
   "cell_type": "code",
   "execution_count": 14,
   "metadata": {},
   "outputs": [],
   "source": [
    "# see spended time in %\n",
    "\n",
    "%load_ext line_profiler"
   ]
  },
  {
   "cell_type": "code",
   "execution_count": 15,
   "metadata": {},
   "outputs": [
    {
     "name": "stdout",
     "output_type": "stream",
     "text": [
      "Timer unit: 1e-09 s\n",
      "\n",
      "Total time: 0.999611 s\n",
      "File: /tmp/ipykernel_87481/3908920735.py\n",
      "Function: mode_using_counter at line 5\n",
      "\n",
      "Line #      Hits         Time  Per Hit   % Time  Line Contents\n",
      "==============================================================\n",
      "     5                                           def mode_using_counter(n_integers):\n",
      "     6         1   59229575.0    6e+07      5.9      random_integers = np.random.randint(1, 100000, n_integers)\n",
      "     7         1  937527704.0    9e+08     93.8      c = Counter(random_integers)\n",
      "     8         1    2853796.0    3e+06      0.3      return c.most_common(1)[0][0]"
     ]
    }
   ],
   "source": [
    "%lprun -f mode_using_counter mode_using_counter(10000000)"
   ]
  },
  {
   "cell_type": "code",
   "execution_count": null,
   "metadata": {},
   "outputs": [],
   "source": []
  }
 ],
 "metadata": {
  "kernelspec": {
   "display_name": "ml",
   "language": "python",
   "name": "python3"
  },
  "language_info": {
   "codemirror_mode": {
    "name": "ipython",
    "version": 3
   },
   "file_extension": ".py",
   "mimetype": "text/x-python",
   "name": "python",
   "nbconvert_exporter": "python",
   "pygments_lexer": "ipython3",
   "version": "3.10.14"
  }
 },
 "nbformat": 4,
 "nbformat_minor": 2
}
